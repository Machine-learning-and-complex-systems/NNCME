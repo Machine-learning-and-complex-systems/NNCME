{
 "cells": [
  {
   "cell_type": "markdown",
   "id": "cb79be92",
   "metadata": {},
   "source": [
    "# Run NNCME with a Gene Expression Example\n",
    "\n",
    "This is a simple sample of implementing a gene expression example with NNCME. \\\n",
    "Follow this notebook, you can conveniently use the VAN to gain a gene expression system data which contains the joint distribution between species.\\\n",
    "Refer to `Detailed Version of Gene Expression.ipynb` and `Toggle Switch Example.ipynb` for more detailed guidance."
   ]
  },
  {
   "cell_type": "markdown",
   "id": "3c5b4cf9",
   "metadata": {},
   "source": [
    "## 1. Implement the code\n",
    "Run MasterEq.py to calculate the gene expression example. After this step, you can get the system data `SampleSum` by the VAN, which contains the joint distribution information between species.  (the data `Data.npz` will also be saved in the `out` folder)\\\n",
    "Adjust the hyperparameters if you need. The accuracy can be improved by increasing `args.batch_size` and `args.max_stepLater`."
   ]
  },
  {
   "cell_type": "code",
   "execution_count": null,
   "id": "c404ea88",
   "metadata": {},
   "outputs": [],
   "source": [
    "###MasterEq.py\n",
    "from args import args\n",
    "import numpy as np\n",
    "from main import Test\n",
    "from main2 import Test2\n",
    "\n",
    "###Add models----------------------------------\n",
    "from ToggleSwitch import ToggleSwitch\n",
    "from EarlyLife import EarlyLife\n",
    "from Epidemic import Epidemic\n",
    "from cascade1 import cascade1\n",
    "from cascade1_inverse import cascade1_inverse\n",
    "from cascade2 import cascade2\n",
    "from cascade3 import cascade3\n",
    "from BirthDeath import BirthDeath\n",
    "from GeneExp import GeneExp\n",
    "from AFL import AFL\n",
    "\n",
    "##Set parameters-------------------------------\n",
    "###Initialize parameters: otherwise the parameters are specified in init_out_dir-> args.py\n",
    "args.Model='GeneExp' #Model name\n",
    "args.L=2 #Species number\n",
    "args.M=int(100) #Upper limit of the molecule number\n",
    "args.batch_size=100 #Number of batch samples\n",
    "args.Tstep=1001# Time step of iterating the chemical master equation\n",
    "args.delta_t=0.05 #Time step length\n",
    "\n",
    "args.net ='rnn'\n",
    "args.max_stepAll=2000 #Maximum number of steps first time step\n",
    "args.max_stepLater=10 #Maximum number of steps of later time steps\n",
    "args.net_depth=1 # including output layer and not input data layer\n",
    "args.net_width=32\n",
    "args.print_step=50 # To save data every print_step\n",
    "args.lr=0.001\n",
    "args.binary=False\n",
    "args.AdaptiveT=False\n",
    "args.AdaptiveTFold=5\n",
    "\n",
    "args.saving_data_time_step=[0,1e2,5e2,2e3,1e4,2e4,5e4,1e5,1.5e5,2e5,2.5e5,3e5,3.5e5,4e5,5e5,6e5,7e5,8e5,9e5,1e6] #To save data at which time steps (give in a list)\n",
    "args.training_loss_print_step=[0,1,2,101,1001,2e3,1e4,1e5,2e5,3e5,4e5,5e5] #To print training loss at which time steps (give in a list)\n",
    "\n",
    "###Default parameters:\n",
    "args.bias=True\n",
    "args.bits=1\n",
    "if args.binary:\n",
    "    args.bits=int(np.ceil(np.log2(args.M)))\n",
    "args.Percent=0.2         \n",
    "args.clip_grad=1\n",
    "args.dtype='float64'\n",
    "args.epsilon=1e-30#initial probability of zero species number\n",
    "args.lr_schedule=False#True\n",
    "\n",
    "print(vars()[args.Model])\n",
    "model = vars()[args.Model](**vars(args)) \n",
    "\n",
    "#Run model-----------------------------------------        \n",
    "if __name__ == '__main__':\n",
    "    Loss, SampleSum = Test(model)\n",
    "    # Loss: the converged KL-divergence at the final epoch for every save time step\n",
    "    # SampleSum: the samples generated from the joint probability (size: SaveTimeStep × SampleNum × SpeciesNum)\n",
    "    # The save time steps depend on args.Tstep / args.print_step\n",
    "    \n",
    "#     SampleSum.shape (5001, 1000, 2)\n",
    "#     Time(min)  9.22015440861384\n",
    "#     Time(hr)  0.153669240143564\n",
    "\n",
    "# SampleSum.shape (21, 1000, 2)\n",
    "# Time(min)  2.101927626132965\n",
    "# Time(hr)  0.035032127102216086"
   ]
  },
  {
   "cell_type": "markdown",
   "id": "83ce33ce",
   "metadata": {},
   "source": [
    "## 2.  Run Gillespie simulation\n",
    "To evaluate the accuracy of the learnt distribution by the VAN, we can compare the resultant marginal distribution of one species with those from Gillespie algorithm. The following program implements using the Gillespie algorithm to calculate the gene expression system. The key parameters, such as algorithm simulation time `T` and algorithm simulation times `times`, can be modified as needed."
   ]
  },
  {
   "cell_type": "code",
   "execution_count": 47,
   "id": "c18e517b",
   "metadata": {},
   "outputs": [
    {
     "name": "stdout",
     "output_type": "stream",
     "text": [
      "Time(min) 1.1289569854736328\n"
     ]
    }
   ],
   "source": [
    "import numpy as np\n",
    "import biocircuits\n",
    "import matplotlib.pyplot as plt\n",
    "import time\n",
    "\n",
    "def GeneExp_propensity(\n",
    "    propensities, population, t, kr, kp, yr, yp\n",
    "):\n",
    "    #species\n",
    "    r, p = population\n",
    "    propensities[0] = kr\n",
    "    propensities[1] = kp*r\n",
    "    propensities[2] = yr*r\n",
    "    propensities[3] = yp*p\n",
    "\n",
    "#the stoichiometric matrix       \n",
    "GeneExp_update = np.array(\n",
    "    [\n",
    "        [ 1, 0 ], \n",
    "        [ 0, 1 ],\n",
    "        [-1, 0 ],\n",
    "        [ 0,-1 ], \n",
    "    ],dtype=int)\n",
    "\n",
    "#the reaction rates \n",
    "kr = 0.1 #kr\n",
    "kp = 0.1 #kp\n",
    "yr = 0.1 #yr\n",
    "yp = 0.002 #yp \n",
    "\n",
    "GeneExp_args = (kr, kp, yr, yp)\n",
    "\n",
    "#initial number of species \n",
    "r0=0\n",
    "p0=0\n",
    "GeneExp_pop_0 = np.array([r0,p0], dtype=float) # follow VAN's learnt initial number\n",
    "\n",
    "#simulation time length\n",
    "T=50\n",
    "time_points = np.linspace(0, T, 50)\n",
    "\n",
    "Run=1 #run Gillespie or not\n",
    "times=1000 #Gillespie simulation times\n",
    "\n",
    "out_filename = 'GeneExp_times'+str(times)+'_T'+str(T)+'_dis'+str(r0)+'_'+str(p0) #filename to save\n",
    "\n",
    "if Run==1:\n",
    "    startT=time.time()\n",
    "    r_total=np.empty(shape=(0,len(time_points)))#to save the time evolution of mRNA number in each simulation (dimension: times*time_points)\n",
    "    p_total=np.empty(shape=(0,len(time_points)))#to save the time evolution of protein number in each simulation (dimension: times*time_points)\n",
    "    \n",
    "    for i in range(times):\n",
    "        \n",
    "        # Perform the Gillespie simulation\n",
    "        pop = biocircuits.gillespie_ssa(\n",
    "            GeneExp_propensity,\n",
    "            GeneExp_update,\n",
    "            GeneExp_pop_0,\n",
    "            time_points,\n",
    "            args=GeneExp_args,\n",
    "        )\n",
    "        \n",
    "        r_total=np.row_stack((r_total,pop[0,:,0]))\n",
    "        p_total=np.row_stack((p_total,pop[0,:,1]))\n",
    "        \n",
    "    np.savez('{}'.format(out_filename),np.array(times),np.array(time_points),r_total,p_total) #sava data\n",
    "    endT=time.time()\n",
    "    print('Time(min)',(endT-startT)/60)\n",
    "else: #load existing data file\n",
    "    data=np.load(out_filename+'.npz')\n",
    "    print(list(data))    \n",
    "    time_points = data['arr_1']\n",
    "    r_total = data['arr_2']\n",
    "    p_total = data['arr_3']\n",
    "    \n",
    "# Time(min) 1.1289569854736328"
   ]
  },
  {
   "cell_type": "markdown",
   "id": "08c4d69a",
   "metadata": {},
   "source": [
    "## 3. Plot Results\n",
    "Plot the result of the gene expression. Relevant details can be referred in the Supplement Information of the manuscript.\n",
    "The following code plots the average number of species over time obtained by two methods. Please refer to `Detailed Version of Gene Expression.ipynb` for more plotting codes. "
   ]
  },
  {
   "cell_type": "code",
   "execution_count": 49,
   "id": "bd715a9d",
   "metadata": {},
   "outputs": [
    {
     "data": {
      "text/plain": [
       "<Figure size 2400x1600 with 0 Axes>"
      ]
     },
     "metadata": {},
     "output_type": "display_data"
    },
    {
     "data": {
      "image/png": "[encoded data removed]",
      "text/plain": [
       "<Figure size 324x288 with 1 Axes>"
      ]
     },
     "metadata": {
      "needs_background": "light"
     },
     "output_type": "display_data"
    },
    {
     "data": {
      "text/plain": [
       "<Figure size 2400x1600 with 0 Axes>"
      ]
     },
     "metadata": {},
     "output_type": "display_data"
    },
    {
     "data": {
      "image/png": "[encoded data removed]",
      "text/plain": [
       "<Figure size 324x288 with 1 Axes>"
      ]
     },
     "metadata": {
      "needs_background": "light"
     },
     "output_type": "display_data"
    }
   ],
   "source": [
    "# load data of the VAN and Gillespie\n",
    "import numpy as np\n",
    "import matplotlib.pyplot as plt\n",
    "from matplotlib import cm\n",
    "\n",
    "jet = cm.get_cmap('jet')\n",
    "jet_12_colors = jet(np.linspace(0, 1, 15))\n",
    "plt.rc('font', size=24)\n",
    "\n",
    "# path1=\"GeneExpression\\GeneExp1_times10000_T3600_dis0_0.npz\" # Gillespie data path\n",
    "# path2=\"GeneExpression\\Data_GeneExp1_M100_T36001_dt0.1_batch1000.npz\" # VAN data path\n",
    "\n",
    "# data1=np.load(path1)\n",
    "# times = data1['arr_0']\n",
    "# time_points = data1['arr_1']\n",
    "tfinal = time_points[-1]\n",
    "step = time_points[1]-time_points[0]\n",
    "\n",
    "rna_total = r_total#data1['arr_2']\n",
    "prot_total = p_total#data1['arr_3']\n",
    "    \n",
    "rna_total_mean=np.mean(rna_total,0)\n",
    "rna_total_std=np.std(rna_total,0)\n",
    "prot_total_mean=np.mean(prot_total,0)\n",
    "prot_total_std=np.std(prot_total,0)\n",
    "\n",
    "# data2=np.load(path2, allow_pickle=True)\n",
    "# argsSave = data2['arr_1']\n",
    "delta_t=args.delta_t#argsSave[1]\n",
    "print_step= args.print_step#argsSave[7]\n",
    "Tstep=args.Tstep\n",
    "SampleSum=SampleSum#data2['arr_5']\n",
    "TimePoins=np.arange(0,args.Tstep,print_step)*delta_t\n",
    "\n",
    "# The time evolution of the average counts for the genes and proteins,  from the VAN (dots) and the Gillespie simulation (lines). \n",
    "#####curve-----------------------------------\n",
    "\n",
    "markersize0=6\n",
    "step=max(1,int(len(TimePoins)/25))\n",
    "\n",
    "plt.figure(num=None,  dpi=400, edgecolor='k')\n",
    "fig, axes = plt.subplots(1,1)\n",
    "plt.plot(time_points,rna_total_mean,linewidth=3.5,color=jet_12_colors[3,:])\n",
    "plt.plot(TimePoins[0:-1:step],np.mean(SampleSum[:,:,0],axis=1)[0:-1:step],\n",
    "          marker='o',linestyle = 'None',color=jet_12_colors[3,:],markersize=markersize0)\n",
    "plt.xlabel(\"Time (hr)\")\n",
    "plt.ylabel(\"mRNA\")\n",
    "fig.set_size_inches(4.5, 4)\n",
    "plt.title('Average Count',fontsize=28)\n",
    "# plt.savefig('GE_panela1.svg', bbox_inches=\"tight\", dpi=400)\n",
    "\n",
    "plt.figure(num=None,  dpi=400, edgecolor='k')\n",
    "fig, axes = plt.subplots(1,1)\n",
    "plt.plot(time_points,prot_total_mean,linewidth=3.5,color=jet_12_colors[12,:])\n",
    "plt.plot(TimePoins[0:-1:step],np.mean(SampleSum[:,:,1],axis=1)[0:-1:step],\n",
    "          marker='o',linestyle = 'None',color=jet_12_colors[12,:],markersize=markersize0)\n",
    "plt.xlabel(\"Time (hr)\")\n",
    "plt.ylabel(\"Protein\")\n",
    "plt.title('Average Count',fontsize=28)\n",
    "fig.set_size_inches(4.5, 4)\n",
    "# plt.savefig('GE_panela2.svg', bbox_inches=\"tight\", dpi=400)"
   ]
  }
 ],
 "metadata": {
  "kernelspec": {
   "display_name": "Python 3",
   "language": "python",
   "name": "python3"
  },
  "language_info": {
   "codemirror_mode": {
    "name": "ipython",
    "version": 3
   },
   "file_extension": ".py",
   "mimetype": "text/x-python",
   "name": "python",
   "nbconvert_exporter": "python",
   "pygments_lexer": "ipython3",
   "version": "3.8.8"
  },
  "toc": {
   "base_numbering": 1,
   "nav_menu": {},
   "number_sections": false,
   "sideBar": true,
   "skip_h1_title": false,
   "title_cell": "Table of Contents",
   "title_sidebar": "Contents",
   "toc_cell": false,
   "toc_position": {},
   "toc_section_display": true,
   "toc_window_display": false
  }
 },
 "nbformat": 4,
 "nbformat_minor": 5
}
